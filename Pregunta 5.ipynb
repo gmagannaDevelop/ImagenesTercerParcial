{
 "cells": [
  {
   "cell_type": "markdown",
   "metadata": {},
   "source": [
    "# Pregunta 5"
   ]
  },
  {
   "cell_type": "markdown",
   "metadata": {},
   "source": [
    "(3 puntos) Con análisis morfológico analice la imagen llamada Ex3Preg5.tif\n",
    "\n",
    "a. (1 punto) Haga una función que automáticamente cuente cuantas letras hay en la imagen.\n",
    "\n",
    "b. (1 punto) Haga una función que automáticamente cuentecuantas letras mayúsiculas hay en la imagen, la función debe regresar también una tabla cuyas columnas indiquien el renglón y el número de letra en el que aparece la mayúsculaen dicho renglón, habrá una fila de esta tabla por cada mayúsucula encontrada.\n",
    "\n",
    "c. (1 punto) Haga una función que automáticamente cuentecuantas letras “o”minúsculas hay en la imagen.La función debe regresar también una tabla cuyas columnas indiquien el renglón y el número de letra en el que aparece la “o”en dicho renglón, habrá una fila de esta tabla por cada “o”encontrada"
   ]
  },
  {
   "cell_type": "code",
   "execution_count": 2,
   "metadata": {},
   "outputs": [],
   "source": [
    "from functools import partial, reduce\n",
    "\n",
    "import matplotlib.pyplot as plt\n",
    "import matplotlib.image as img\n",
    "\n",
    "import numpy as np\n",
    "import cv2 as cv"
   ]
  },
  {
   "cell_type": "code",
   "execution_count": null,
   "metadata": {},
   "outputs": [],
   "source": []
  }
 ],
 "metadata": {
  "kernelspec": {
   "display_name": "Python 3",
   "language": "python",
   "name": "python3"
  },
  "language_info": {
   "codemirror_mode": {
    "name": "ipython",
    "version": 3
   },
   "file_extension": ".py",
   "mimetype": "text/x-python",
   "name": "python",
   "nbconvert_exporter": "python",
   "pygments_lexer": "ipython3",
   "version": "3.7.4"
  }
 },
 "nbformat": 4,
 "nbformat_minor": 2
}

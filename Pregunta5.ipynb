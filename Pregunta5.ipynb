{
 "cells": [
  {
   "cell_type": "markdown",
   "metadata": {},
   "source": [
    "# Pregunta 5"
   ]
  },
  {
   "cell_type": "code",
   "execution_count": 1,
   "metadata": {},
   "outputs": [],
   "source": [
    "import matplotlib.pyplot as plt\n",
    "import numpy as np\n",
    "import cv2\n",
    "import pytesseract"
   ]
  },
  {
   "cell_type": "code",
   "execution_count": 2,
   "metadata": {},
   "outputs": [],
   "source": [
    "letritas = cv2.imread('imagenes/Ex3Preg5.tif', 0)"
   ]
  },
  {
   "cell_type": "code",
   "execution_count": 3,
   "metadata": {},
   "outputs": [
    {
     "data": {
      "image/png": "[encoded data removed]",
      "text/plain": [
       "<Figure size 432x288 with 1 Axes>"
      ]
     },
     "metadata": {
      "needs_background": "light"
     },
     "output_type": "display_data"
    }
   ],
   "source": [
    "plt.imshow(letritas, cmap = 'gray');"
   ]
  },
  {
   "cell_type": "markdown",
   "metadata": {},
   "source": [
    "Hay que deshacerse de las letras partidas de la orilla derecha."
   ]
  },
  {
   "cell_type": "code",
   "execution_count": 4,
   "metadata": {},
   "outputs": [],
   "source": [
    "def limpiar_bordes(imagen, lkernel):\n",
    "    \"\"\"Esta función elimina los objetos que tocan el borde de una imagen,\n",
    "    utilizando reconstrucción por dilatación geodésica.\"\"\"\n",
    "    ancho = imagen.shape[0]\n",
    "    largo = imagen.shape[1]\n",
    "    \n",
    "    # Crear el marcador: imagen que es cero en todos lados salvo\n",
    "    # en los bordes, que coinciden con los de la imagen.\n",
    "    marcador = np.zeros((ancho, largo), dtype = \"uint8\")\n",
    "    marcador[0] = np.ones(largo, dtype = \"uint8\")\n",
    "    marcador[ancho - 1] = np.ones(largo, dtype = \"uint8\")\n",
    "    marcador[:, 0] = np.ones(ancho, dtype = \"uint8\").T\n",
    "    marcador[:, largo - 1] = np.ones(ancho, dtype = \"uint8\").T\n",
    "    marcador = marcador * imagen\n",
    "    marcador = np.uint8(marcador)\n",
    "    \n",
    "    # Crear kernel para dilatación\n",
    "    kernel = np.ones((lkernel, lkernel), np.uint8)\n",
    "    \n",
    "    D_vieja = marcador\n",
    "    D_nueva = np.bitwise_and(cv2.dilate(marcador, kernel, iterations = 1), imagen)\n",
    "    \n",
    "    while np.array_equal(D_nueva, D_vieja) == False:\n",
    "        D_vieja = D_nueva\n",
    "        D_nueva = np.bitwise_and(cv2.dilate(D_nueva, kernel, iterations = 1), imagen)\n",
    "        \n",
    "    return imagen - D_nueva"
   ]
  },
  {
   "cell_type": "code",
   "execution_count": 5,
   "metadata": {},
   "outputs": [],
   "source": [
    "letras_limpias = limpiar_bordes(letritas, 3)"
   ]
  },
  {
   "cell_type": "code",
   "execution_count": 6,
   "metadata": {},
   "outputs": [
    {
     "data": {
      "image/png": "[encoded data removed]",
      "text/plain": [
       "<Figure size 432x288 with 1 Axes>"
      ]
     },
     "metadata": {
      "needs_background": "light"
     },
     "output_type": "display_data"
    }
   ],
   "source": [
    "plt.imshow(letras_limpias, cmap = 'gray')\n",
    "plt.title(\"Imagen con bordes limpios\", size = 18);"
   ]
  },
  {
   "cell_type": "code",
   "execution_count": 7,
   "metadata": {},
   "outputs": [],
   "source": [
    "letras_string = pytesseract.image_to_string(letras_limpias)"
   ]
  },
  {
   "cell_type": "markdown",
   "metadata": {},
   "source": [
    "__a)__ Haga una función que, automáticamente, cuente cuántas letras hay en la imagen."
   ]
  },
  {
   "cell_type": "code",
   "execution_count": 8,
   "metadata": {},
   "outputs": [],
   "source": [
    "def contar_letras(string_de_img):\n",
    "    # Dejar solo las letras\n",
    "    puras_letras = string_de_img.replace(\" \", \"\")\n",
    "    puras_letras = puras_letras.replace(\",\", \"\")\n",
    "    puras_letras = puras_letras.replace(\".\",\"\")\n",
    "    puras_letras = puras_letras.replace(\"\\n\", \"\")\n",
    "    \n",
    "    return len(puras_letras)"
   ]
  },
  {
   "cell_type": "code",
   "execution_count": 9,
   "metadata": {
    "scrolled": true
   },
   "outputs": [
    {
     "name": "stdout",
     "output_type": "stream",
     "text": [
      "En total hay 408 letras en la imagen\n"
     ]
    }
   ],
   "source": [
    "print(\"En total hay\", contar_letras(letras_string), \"letras en la imagen\")"
   ]
  },
  {
   "cell_type": "markdown",
   "metadata": {},
   "source": [
    "__b)__ Haga una función que, automáticamente, cuente cuántas letras mayúsculas hay en la imagen. La función debe regresar también una tabla cuyas columnas indiquien el renglón y el número de letra en el que aparece la mayúscula en dicho renglón."
   ]
  },
  {
   "cell_type": "code",
   "execution_count": 10,
   "metadata": {},
   "outputs": [],
   "source": [
    "def partir_en_lineas(string_de_img):\n",
    "    copia_string = string_de_img\n",
    "    i_del_salto = copia_string.find('\\n')\n",
    "    lineas = []\n",
    "\n",
    "    while i_del_salto != -1:\n",
    "        lineas.append(copia_string[0:i_del_salto])\n",
    "        copia_string = copia_string[i_del_salto + 1:]\n",
    "        i_del_salto = copia_string.find('\\n')\n",
    "    \n",
    "    lineas.append(copia_string)\n",
    "    \n",
    "    return lineas"
   ]
  },
  {
   "cell_type": "code",
   "execution_count": 11,
   "metadata": {},
   "outputs": [],
   "source": [
    "def contar_mayusculas(lineas_de_img):\n",
    "    contador = 0\n",
    "    \n",
    "    print('Mayúsculas:\\n letra\\t renglón  columna')\n",
    "\n",
    "    for i in range(len(lineas)):\n",
    "        linea = lineas[i]\n",
    "        for c in range(len(linea)):\n",
    "            if linea[c].isupper():\n",
    "                print(linea[c], '\\t', i + 1, '\\t', c + 1)\n",
    "                contador += 1\n",
    "    \n",
    "    return contador"
   ]
  },
  {
   "cell_type": "code",
   "execution_count": 12,
   "metadata": {},
   "outputs": [],
   "source": [
    "lineas = partir_en_lineas(letras_string)"
   ]
  },
  {
   "cell_type": "code",
   "execution_count": 13,
   "metadata": {},
   "outputs": [
    {
     "name": "stdout",
     "output_type": "stream",
     "text": [
      "Mayúsculas:\n",
      " letra\t renglón  columna\n",
      "T \t 1 \t 37\n",
      "S \t 3 \t 1\n",
      "S \t 4 \t 13\n",
      "F \t 5 \t 38\n",
      "T \t 8 \t 39\n",
      "\n",
      "En total hay 5 letras mayúsculas en la imagen\n"
     ]
    }
   ],
   "source": [
    "total_mayusculas = contar_mayusculas(lineas)\n",
    "print(\"\\nEn total hay\", total_mayusculas, \"letras mayúsculas en la imagen\")"
   ]
  },
  {
   "cell_type": "markdown",
   "metadata": {},
   "source": [
    "__c)__ Haga una función que, automáticamente, cuente cuántas letras “o” minúsculas hay en la imagen. La función debe regresar también una tabla cuyas columnas indiquen el renglón y el número de letra en el que aparece la “o” en dicho renglón."
   ]
  },
  {
   "cell_type": "code",
   "execution_count": 14,
   "metadata": {},
   "outputs": [],
   "source": [
    "def contar_oes(lineas_de_img):\n",
    "    contador = 0\n",
    "    \n",
    "    print('o minúscula:\\nrenglón\\tcolumna')\n",
    "\n",
    "    for i in range(len(lineas)):\n",
    "        linea = lineas[i]\n",
    "        for c in range(len(linea)):\n",
    "            if linea[c] == 'o':\n",
    "                print(i + 1, '\\t', c + 1)\n",
    "                contador += 1\n",
    "    \n",
    "    return contador"
   ]
  },
  {
   "cell_type": "code",
   "execution_count": 15,
   "metadata": {},
   "outputs": [
    {
     "name": "stdout",
     "output_type": "stream",
     "text": [
      "o minúscula:\n",
      "renglón\tcolumna\n",
      "1 \t 2\n",
      "1 \t 9\n",
      "1 \t 14\n",
      "1 \t 20\n",
      "1 \t 27\n",
      "1 \t 47\n",
      "1 \t 50\n",
      "2 \t 3\n",
      "2 \t 21\n",
      "2 \t 41\n",
      "2 \t 54\n",
      "3 \t 11\n",
      "3 \t 14\n",
      "3 \t 18\n",
      "3 \t 38\n",
      "3 \t 42\n",
      "3 \t 50\n",
      "4 \t 3\n",
      "4 \t 23\n",
      "5 \t 1\n",
      "5 \t 5\n",
      "5 \t 28\n",
      "5 \t 39\n",
      "5 \t 51\n",
      "6 \t 11\n",
      "6 \t 17\n",
      "6 \t 27\n",
      "6 \t 37\n",
      "7 \t 28\n",
      "7 \t 40\n",
      "7 \t 55\n",
      "8 \t 10\n",
      "8 \t 21\n",
      "9 \t 27\n",
      "9 \t 46\n",
      "9 \t 50\n",
      "\n",
      "En total hay 36 letras o minúsculas\n"
     ]
    }
   ],
   "source": [
    "total_oes = contar_oes(letras_string)\n",
    "print(\"\\nEn total hay\", total_oes, \"letras o minúsculas\")"
   ]
  },
  {
   "cell_type": "code",
   "execution_count": null,
   "metadata": {},
   "outputs": [],
   "source": []
  }
 ],
 "metadata": {
  "kernelspec": {
   "display_name": "Python 3",
   "language": "python",
   "name": "python3"
  },
  "language_info": {
   "codemirror_mode": {
    "name": "ipython",
    "version": 3
   },
   "file_extension": ".py",
   "mimetype": "text/x-python",
   "name": "python",
   "nbconvert_exporter": "python",
   "pygments_lexer": "ipython3",
   "version": "3.7.4"
  }
 },
 "nbformat": 4,
 "nbformat_minor": 2
}

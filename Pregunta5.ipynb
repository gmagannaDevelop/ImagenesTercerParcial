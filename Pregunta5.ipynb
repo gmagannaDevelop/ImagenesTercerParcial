{
 "cells": [
  {
   "cell_type": "markdown",
   "metadata": {},
   "source": [
    "# Pregunta 5"
   ]
  },
  {
   "cell_type": "markdown",
   "metadata": {},
   "source": [
    "(3 puntos) Con análisis morfológico analice la imagen llamada Ex3Preg5.tif\n",
    "\n",
    "a. (1 punto) Haga una función que automáticamente cuente cuantas letras hay en la imagen.\n",
    "\n",
    "b. (1 punto) Haga una función que automáticamente cuentecuantas letras mayúsiculas hay en la imagen, la función debe regresar también una tabla cuyas columnas indiquien el renglón y el número de letra en el que aparece la mayúsculaen dicho renglón, habrá una fila de esta tabla por cada mayúsucula encontrada.\n",
    "\n",
    "c. (1 punto) Haga una función que automáticamente cuentecuantas letras “o”minúsculas hay en la imagen.La función debe regresar también una tabla cuyas columnas indiquien el renglón y el número de letra en el que aparece la “o”en dicho renglón, habrá una fila de esta tabla por cada “o”encontrada"
   ]
  },
  {
   "cell_type": "code",
   "execution_count": 105,
   "metadata": {},
   "outputs": [],
   "source": [
    "import matplotlib.pyplot as plt\n",
    "import numpy as np\n",
    "import cv2\n",
    "import pytesseract"
   ]
  },
  {
   "cell_type": "code",
   "execution_count": 106,
   "metadata": {},
   "outputs": [],
   "source": [
    "letritas = cv2.imread('imagenes/Ex3Preg5.tif', 0)"
   ]
  },
  {
   "cell_type": "code",
   "execution_count": 107,
   "metadata": {},
   "outputs": [
    {
     "data": {
      "image/png": "[encoded data removed]",
      "text/plain": [
       "<Figure size 432x288 with 1 Axes>"
      ]
     },
     "metadata": {
      "needs_background": "light"
     },
     "output_type": "display_data"
    }
   ],
   "source": [
    "plt.imshow(letritas, cmap = 'gray');"
   ]
  },
  {
   "cell_type": "markdown",
   "metadata": {},
   "source": [
    "Hay que deshacerse de las letras partidas de la orilla derecha."
   ]
  },
  {
   "cell_type": "code",
   "execution_count": 108,
   "metadata": {
    "scrolled": true
   },
   "outputs": [],
   "source": [
    "ancho = letritas.shape[0]\n",
    "largo = letritas.shape[1]\n",
    "marcador = np.zeros((ancho, largo), dtype = \"uint8\")\n",
    "marcador[0] = np.ones(largo, dtype = \"uint8\")\n",
    "marcador[ancho - 1] = np.ones(largo, dtype = \"uint8\")\n",
    "marcador[:, 0] = np.ones(ancho, dtype = \"uint8\").T\n",
    "marcador[:, largo - 1] = np.ones(ancho, dtype = \"uint8\").T\n",
    "marcador = marcador * letritas\n",
    "marcador = np.uint8(marcador)"
   ]
  },
  {
   "cell_type": "code",
   "execution_count": 109,
   "metadata": {},
   "outputs": [],
   "source": [
    "kernel = np.ones((3, 3), np.uint8)"
   ]
  },
  {
   "cell_type": "code",
   "execution_count": 110,
   "metadata": {},
   "outputs": [],
   "source": [
    "D_vieja = marcador\n",
    "D_nueva = np.bitwise_and(cv2.dilate(marcador, kernel, iterations = 1), letritas)"
   ]
  },
  {
   "cell_type": "code",
   "execution_count": 111,
   "metadata": {},
   "outputs": [],
   "source": [
    "while np.array_equal(D_nueva, D_vieja) == False:\n",
    "    D_vieja = D_nueva\n",
    "    D_nueva = np.bitwise_and(cv2.dilate(D_nueva, kernel, iterations = 1), letritas)"
   ]
  },
  {
   "cell_type": "code",
   "execution_count": 112,
   "metadata": {},
   "outputs": [],
   "source": [
    "letras_limpias = letritas - D_nueva"
   ]
  },
  {
   "cell_type": "code",
   "execution_count": 113,
   "metadata": {},
   "outputs": [
    {
     "data": {
      "image/png": "[encoded data removed]",
      "text/plain": [
       "<Figure size 432x288 with 1 Axes>"
      ]
     },
     "metadata": {
      "needs_background": "light"
     },
     "output_type": "display_data"
    }
   ],
   "source": [
    "plt.imshow(letras_limpias, cmap = 'gray')\n",
    "plt.title(\"Imagen con bordes limpios\", size = 18);"
   ]
  },
  {
   "cell_type": "code",
   "execution_count": 115,
   "metadata": {},
   "outputs": [],
   "source": [
    "letras_string = pytesseract.image_to_string(letras_limpias)"
   ]
  },
  {
   "cell_type": "code",
   "execution_count": 116,
   "metadata": {},
   "outputs": [
    {
     "name": "stdout",
     "output_type": "stream",
     "text": [
      "ponents or broken connection paths. There is no poi\n",
      "tion past the level of detail required to identify those\n",
      "Segmentation of nontrivial images is one of the mo\n",
      "processing. Segmentation accuracy determines the ev\n",
      "of computerized analysis procedures. For this reason,\n",
      "be taken to improve the probability of rugged segment\n",
      "such as industrial inspection applications, at least some\n",
      "the environment is possible at timesThe experienced\n",
      "designer invariably pays considerable attention to suc\n"
     ]
    }
   ],
   "source": [
    "print(letras_string)"
   ]
  },
  {
   "cell_type": "code",
   "execution_count": 120,
   "metadata": {},
   "outputs": [],
   "source": [
    "puras_letras = letras_string.replace(\" \", \"\")\n",
    "puras_letras = puras_letras.replace(\",\", \"\")\n",
    "puras_letras = puras_letras.replace(\".\",\"\")\n",
    "puras_letras = puras_letras.replace(\"\\n\", \"\")"
   ]
  },
  {
   "cell_type": "code",
   "execution_count": 121,
   "metadata": {},
   "outputs": [
    {
     "name": "stdout",
     "output_type": "stream",
     "text": [
      "ponentsorbrokenconnectionpathsThereisnopoitionpastthelevelofdetailrequiredtoidentifythoseSegmentationofnontrivialimagesisoneofthemoprocessingSegmentationaccuracydeterminestheevofcomputerizedanalysisproceduresForthisreasonbetakentoimprovetheprobabilityofruggedsegmentsuchasindustrialinspectionapplicationsatleastsometheenvironmentispossibleattimesTheexperienceddesignerinvariablypaysconsiderableattentiontosuc\n"
     ]
    }
   ],
   "source": [
    "print(puras_letras)"
   ]
  },
  {
   "cell_type": "code",
   "execution_count": 122,
   "metadata": {},
   "outputs": [
    {
     "name": "stdout",
     "output_type": "stream",
     "text": [
      "En total hay 408 letras en la imagen\n"
     ]
    }
   ],
   "source": [
    "print(\"En total hay\", len(puras_letras), \"letras en la imagen\")"
   ]
  },
  {
   "cell_type": "code",
   "execution_count": 123,
   "metadata": {},
   "outputs": [
    {
     "name": "stdout",
     "output_type": "stream",
     "text": [
      "En total hay 36 letras o minúsculas\n"
     ]
    }
   ],
   "source": [
    "print(\"En total hay\", puras_letras.count(\"o\"), \"letras o minúsculas\")"
   ]
  },
  {
   "cell_type": "code",
   "execution_count": 125,
   "metadata": {},
   "outputs": [
    {
     "name": "stdout",
     "output_type": "stream",
     "text": [
      "En total hay 5 letras mayúsculas en la imagen\n"
     ]
    }
   ],
   "source": [
    "print(\"En total hay\", sum(1 for c in puras_letras if c.isupper()), \"letras mayúsculas en la imagen\")"
   ]
  },
  {
   "cell_type": "markdown",
   "metadata": {},
   "source": [
    "Hasta aquí le dejo, que lo de las columnas va a estar medio canijo."
   ]
  }
 ],
 "metadata": {
  "kernelspec": {
   "display_name": "Python 3",
   "language": "python",
   "name": "python3"
  },
  "language_info": {
   "codemirror_mode": {
    "name": "ipython",
    "version": 3
   },
   "file_extension": ".py",
   "mimetype": "text/x-python",
   "name": "python",
   "nbconvert_exporter": "python",
   "pygments_lexer": "ipython3",
   "version": "3.7.3"
  }
 },
 "nbformat": 4,
 "nbformat_minor": 2
}
